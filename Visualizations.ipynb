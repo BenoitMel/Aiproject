{
 "cells": [
  {
   "cell_type": "markdown",
   "metadata": {
    "Collapsed": "false"
   },
   "source": [
    "# Visualizations"
   ]
  },
  {
   "cell_type": "code",
   "execution_count": 6,
   "metadata": {
    "Collapsed": "false"
   },
   "outputs": [],
   "source": [
    "import os\n",
    "\n",
    "# backward compatibility\n",
    "try:\n",
    "    import plotly.graph_objects as go\n",
    "except:\n",
    "    import plotly.graph_objs as go\n",
    "import plotly as py\n",
    "from plotly.subplots import make_subplots\n",
    "import plotly.io as pio\n",
    "\n",
    "# Show the plots in the browser and not in the notbooks\n",
    "pio.renderers.default = \"browser\"\n",
    "\n",
    "# Say what? you can do even more interactive stuff in jupyter?\n",
    "from ipywidgets import interact_manual, interact, widgets\n",
    "\n",
    "# free tools to visualize, YAY!!!\n",
    "from util import plot_hypnogram, plot_clean_signal_phase, plot_signal_time"
   ]
  },
  {
   "cell_type": "code",
   "execution_count": 7,
   "metadata": {
    "Collapsed": "false"
   },
   "outputs": [
    {
     "data": {
      "text/plain": [
       "['32020018', '32020065', '32020339', '32020423', '32020446', '32020744']"
      ]
     },
     "execution_count": 7,
     "metadata": {},
     "output_type": "execute_result"
    }
   ],
   "source": [
    "# CONFIGURE THESE THOSE THE CORRECT LOCAL PATH!!!!\n",
    "signal_folder = \"/home/jonas/Desktop/sleep/cleaned_signals/\"\n",
    "label_folder = \"/home/jonas/Desktop/sleep/labels/\"\n",
    "\n",
    "file_type = 'parquet'\n",
    "\n",
    "patient_ids = sorted(list(map(lambda x: x.split('.')[0], \n",
    "                              filter(lambda x: x.endswith(file_type), os.listdir(signal_folder)))))\n",
    "sorted(patient_ids)"
   ]
  },
  {
   "cell_type": "markdown",
   "metadata": {
    "Collapsed": "false"
   },
   "source": [
    "# Plotting signals during various sleep phases\n",
    "\n",
    "make plots of the signals during various sleep phases (in the middle of that phase) so we (humans) can infer whether we are able to discern the phases "
   ]
  },
  {
   "cell_type": "code",
   "execution_count": 8,
   "metadata": {
    "Collapsed": "false"
   },
   "outputs": [
    {
     "data": {
      "application/vnd.jupyter.widget-view+json": {
       "model_id": "ba5a5616d5c24241a106be50a33a4ba9",
       "version_major": 2,
       "version_minor": 0
      },
      "text/plain": [
       "interactive(children=(Dropdown(description='phase', options=('N3', 'N2', 'N1', 'REM', 'Wakker'), value='N3'), …"
      ]
     },
     "metadata": {},
     "output_type": "display_data"
    }
   ],
   "source": [
    "@interact_manual\n",
    "def plot_signals_int(phase=['N3', 'N2', 'N1', 'REM', 'Wakker'], patient_id=patient_ids, duration_s=(30, 120, 1),\n",
    "                    signals=widgets.SelectMultiple(options=['LSO', 'RIO', 'EMG_chin', 'EMG_leg', 'C3', 'C4', 'O1', 'A2', 'ECG'], \n",
    "                                                   value=['LSO'], description='Signals', disabled=False)):\n",
    "    return plot_clean_signal_phase(signal_dir=signal_folder, label_dir=label_folder, patient_id=str(patient_id), \n",
    "                                   save_type=file_type, stage=phase, duration_s=duration_s, signals=signals)"
   ]
  },
  {
   "cell_type": "markdown",
   "metadata": {
    "Collapsed": "false"
   },
   "source": [
    "# Hypnogram plotting"
   ]
  },
  {
   "cell_type": "code",
   "execution_count": 4,
   "metadata": {
    "Collapsed": "false"
   },
   "outputs": [
    {
     "data": {
      "application/vnd.jupyter.widget-view+json": {
       "model_id": "23fcb6ee62044ca4b3a370de3316d379",
       "version_major": 2,
       "version_minor": 0
      },
      "text/plain": [
       "interactive(children=(Dropdown(description='patient_id', options=('32020018', '32020065', '32020339', '3202042…"
      ]
     },
     "metadata": {},
     "output_type": "display_data"
    }
   ],
   "source": [
    "@interact_manual\n",
    "def plt_hypnogram(patient_id=patient_ids):\n",
    "    return plot_hypnogram(label_dir=label_folder, patient_id=str(patient_id), save_type=file_type)"
   ]
  },
  {
   "cell_type": "markdown",
   "metadata": {
    "Collapsed": "false"
   },
   "source": [
    "# Visualizations of the signals"
   ]
  },
  {
   "cell_type": "code",
   "execution_count": 5,
   "metadata": {
    "Collapsed": "false"
   },
   "outputs": [
    {
     "data": {
      "application/vnd.jupyter.widget-view+json": {
       "model_id": "d78ea95df1d14caaa0f81c9326529834",
       "version_major": 2,
       "version_minor": 0
      },
      "text/plain": [
       "interactive(children=(Text(value='23:30:12', description='t_start'), IntSlider(value=105, description='duratio…"
      ]
     },
     "metadata": {},
     "output_type": "display_data"
    }
   ],
   "source": [
    "@interact_manual\n",
    "def plot_signal_time_int(t_start='23:30:12', duration_s=(30, 180, 1), patient_id=patient_ids,\n",
    "                        signals=widgets.SelectMultiple(options=['LSO', 'RIO', 'EMG_chin', 'EMG_leg', 'C3', 'C4', 'O1', 'A2', 'ECG'], \n",
    "                                                   value=['LSO'], description='Signals', disabled=False)):\n",
    "    return plot_signal_time(signal_dir=signal_folder, patient_id=patient_id, save_type=file_type, signals=signals, \n",
    "                            t_start=t_start, duration_s=duration_s)"
   ]
  },
  {
   "cell_type": "code",
   "execution_count": null,
   "metadata": {
    "Collapsed": "false"
   },
   "outputs": [],
   "source": []
  }
 ],
 "metadata": {
  "kernelspec": {
   "display_name": "Python 3",
   "language": "python",
   "name": "python3"
  },
  "language_info": {
   "codemirror_mode": {
    "name": "ipython",
    "version": 3
   },
   "file_extension": ".py",
   "mimetype": "text/x-python",
   "name": "python",
   "nbconvert_exporter": "python",
   "pygments_lexer": "ipython3",
   "version": "3.7.3"
  }
 },
 "nbformat": 4,
 "nbformat_minor": 4
}
